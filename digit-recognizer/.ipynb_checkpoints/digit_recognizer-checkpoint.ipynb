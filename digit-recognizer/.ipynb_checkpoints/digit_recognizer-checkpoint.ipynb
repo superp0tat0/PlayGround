{
 "cells": [
  {
   "cell_type": "code",
   "execution_count": 1,
   "metadata": {
    "ExecuteTime": {
     "end_time": "2020-03-04T01:34:27.658582Z",
     "start_time": "2020-03-04T01:34:26.841681Z"
    }
   },
   "outputs": [],
   "source": [
    "import plaidml.keras\n",
    "plaidml.keras.install_backend()\n",
    "import os\n",
    "os.environ[\"KERAS_BACKEND\"] = \"plaidml.keras.backend\""
   ]
  },
  {
   "cell_type": "code",
   "execution_count": 2,
   "metadata": {
    "ExecuteTime": {
     "end_time": "2020-03-04T01:34:28.387961Z",
     "start_time": "2020-03-04T01:34:27.660150Z"
    }
   },
   "outputs": [],
   "source": [
    "from keras import models, layers\n",
    "import numpy as np\n",
    "from keras.utils import to_categorical\n",
    "import pandas as pd\n",
    "import matplotlib.pyplot as plt\n",
    "from keras.layers import Convolution2D, MaxPooling2D, Flatten, Dropout, BatchNormalization, Dense, Lambda\n",
    "from sklearn.model_selection import train_test_split\n",
    "import warnings\n",
    "from keras.callbacks import TensorBoard\n",
    "import time\n",
    "import scipy.stats\n",
    "from keras.layers import Activation\n",
    "from keras.utils.generic_utils import get_custom_objects\n",
    "from keras.models import Sequential\n",
    "from keras.layers import Dense\n",
    "\n",
    "warnings.filterwarnings(\"ignore\")"
   ]
  },
  {
   "cell_type": "code",
   "execution_count": 3,
   "metadata": {
    "ExecuteTime": {
     "end_time": "2020-03-04T01:34:28.394743Z",
     "start_time": "2020-03-04T01:34:28.389961Z"
    }
   },
   "outputs": [
    {
     "data": {
      "text/plain": [
       "'/home/siyi/Desktop/PlayGround/digit-recognizer'"
      ]
     },
     "execution_count": 3,
     "metadata": {},
     "output_type": "execute_result"
    }
   ],
   "source": [
    "import os\n",
    "os.getcwd()"
   ]
  },
  {
   "cell_type": "markdown",
   "metadata": {},
   "source": []
  },
  {
   "cell_type": "code",
   "execution_count": 4,
   "metadata": {
    "ExecuteTime": {
     "end_time": "2020-03-04T01:34:32.152475Z",
     "start_time": "2020-03-04T01:34:28.396771Z"
    }
   },
   "outputs": [],
   "source": [
    "train = pd.read_csv(\"./train.csv\")\n",
    "test = pd.read_csv(\"./test.csv\")\n",
    "submisssion = pd.read_csv(\"./sample_submission.csv\")"
   ]
  },
  {
   "cell_type": "code",
   "execution_count": 5,
   "metadata": {
    "ExecuteTime": {
     "end_time": "2020-03-04T01:34:32.306673Z",
     "start_time": "2020-03-04T01:34:32.154321Z"
    },
    "scrolled": true
   },
   "outputs": [
    {
     "data": {
      "image/png": "[encoded data removed]",
      "text/plain": [
       "<Figure size 432x288 with 1 Axes>"
      ]
     },
     "metadata": {
      "needs_background": "light"
     },
     "output_type": "display_data"
    }
   ],
   "source": [
    "plt.imshow(np.array(test[7:8]).reshape(28, 28))\n",
    "plt.show()\n",
    "x = 3\n",
    "y = \"string\""
   ]
  },
  {
   "cell_type": "code",
   "execution_count": 6,
   "metadata": {
    "ExecuteTime": {
     "end_time": "2020-03-04T01:34:32.576878Z",
     "start_time": "2020-03-04T01:34:32.308493Z"
    }
   },
   "outputs": [],
   "source": [
    "X = train.iloc[:, 1:]/255.\n",
    "y = train.iloc[:, 0]\n",
    "test = test/255."
   ]
  },
  {
   "cell_type": "code",
   "execution_count": 7,
   "metadata": {
    "ExecuteTime": {
     "end_time": "2020-03-04T01:34:32.582073Z",
     "start_time": "2020-03-04T01:34:32.578799Z"
    }
   },
   "outputs": [],
   "source": [
    "# reshaping 784 to 28,28,1\n",
    "X = X.values.reshape(train.shape[0], 28, 28, 1)\n",
    "test = test.values.reshape(test.shape[0], 28, 28, 1)"
   ]
  },
  {
   "cell_type": "code",
   "execution_count": 8,
   "metadata": {
    "ExecuteTime": {
     "end_time": "2020-03-04T01:34:33.422435Z",
     "start_time": "2020-03-04T01:34:32.585758Z"
    }
   },
   "outputs": [
    {
     "data": {
      "text/plain": [
       "((33600, 28, 28, 1), (33600, 10), (8400, 28, 28, 1), (8400, 10))"
      ]
     },
     "execution_count": 8,
     "metadata": {},
     "output_type": "execute_result"
    }
   ],
   "source": [
    "# one hot of target values using keras's to_categorical class\n",
    "y = to_categorical(y)\n",
    "\n",
    "# splits train/test set\n",
    "Xtrain, Xtest, ytrain, ytest = train_test_split(\n",
    "    X, y, test_size=0.2, random_state=29)\n",
    "\n",
    "# Shape\n",
    "Xtrain.shape, ytrain.shape, Xtest.shape, ytest.shape"
   ]
  },
  {
   "cell_type": "code",
   "execution_count": 9,
   "metadata": {
    "ExecuteTime": {
     "end_time": "2020-03-04T01:34:33.624962Z",
     "start_time": "2020-03-04T01:34:33.426381Z"
    }
   },
   "outputs": [],
   "source": [
    "# in model i am using BatchNormalization so for first step, i menualy normalize the batch\n",
    "mean_px = Xtrain.mean().astype(np.float32)\n",
    "std_px = Xtrain.std().astype(np.float32)\n",
    "\n",
    "def standardize(x):\n",
    "    return (x-mean_px)/std_px\n",
    "\n",
    "#Create a new activation function\n",
    "from keras import backend as K\n",
    "def custom_activation(x):\n",
    "    return (K.exp(-((x-4)**2)))"
   ]
  },
  {
   "cell_type": "code",
   "execution_count": 21,
   "metadata": {
    "ExecuteTime": {
     "end_time": "2020-03-04T01:34:33.633903Z",
     "start_time": "2020-03-04T01:34:33.626786Z"
    }
   },
   "outputs": [],
   "source": [
    "# this is a model with dropouts layers\n",
    "def cnn():\n",
    "    model = models.Sequential()\n",
    "    model.add(Lambda(standardize, input_shape=(28, 28, 1)))\n",
    "    model.add(Convolution2D(32, (3, 3), activation=\"relu\"))\n",
    "    model.add(BatchNormalization(axis=1))\n",
    "    model.add(Convolution2D(64, (3, 3), activation=\"relu\"))\n",
    "    model.add(MaxPooling2D())\n",
    "    model.add(Convolution2D(128, (3, 3), activation=\"relu\"))\n",
    "    model.add(MaxPooling2D())\n",
    "    model.add(Flatten())\n",
    "    model.add(Dense(256, activation=\"relu\"))\n",
    "    model.add(Dropout(0.2))\n",
    "    model.add(Dense(256, activation=\"relu\"))\n",
    "    model.add(Dropout(0.2))\n",
    "    model.add(Dense(10, activation='softmax'))\n",
    "    model.compile(optimizer='adam', loss='categorical_crossentropy',\n",
    "                  metrics=['accuracy'])\n",
    "    return model\n",
    "\n",
    "def cnn():\n",
    "    model = models.Sequential()\n",
    "    model.add(Lambda(standardize, input_shape=(28, 28, 1)))\n",
    "    model.add(Convolution2D(32, (3, 3), activation=\"relu\"))\n",
    "    model.add(BatchNormalization(axis=1))\n",
    "    model.add(Convolution2D(64, (3, 3), activation=\"relu\"))\n",
    "    model.add(MaxPooling2D())\n",
    "    model.add(BatchNormalization(axis=1))\n",
    "    model.add(Convolution2D(128, (3, 3), activation=\"relu\"))\n",
    "    model.add(MaxPooling2D())\n",
    "    model.add(BatchNormalization(axis=1))\n",
    "    model.add(Flatten())\n",
    "    model.add(Dense(256, activation=\"relu\"))\n",
    "    model.add(Dropout(0.2))\n",
    "    model.add(Dense(256, activation=\"relu\"))\n",
    "    model.add(Dropout(0.2))\n",
    "    model.add(Dense(10, activation='softmax'))\n",
    "    model.compile(optimizer='adam', loss='categorical_crossentropy',\n",
    "                  metrics=['accuracy'])\n",
    "    return model"
   ]
  },
  {
   "cell_type": "code",
   "execution_count": 22,
   "metadata": {
    "ExecuteTime": {
     "end_time": "2020-03-04T02:02:07.559121Z",
     "start_time": "2020-03-04T01:34:33.635459Z"
    },
    "scrolled": true
   },
   "outputs": [
    {
     "name": "stdout",
     "output_type": "stream",
     "text": [
      "Train on 33600 samples, validate on 8400 samples\n",
      "Epoch 1/20\n",
      "33600/33600 [==============================] - 21s 620us/step - loss: 0.6356 - acc: 0.7924 - val_loss: 0.9872 - val_acc: 0.9649\n",
      "Epoch 2/20\n",
      "33600/33600 [==============================] - 5s 134us/step - loss: 0.0960 - acc: 0.9699 - val_loss: 0.6742 - val_acc: 0.9800\n",
      "Epoch 3/20\n",
      "33600/33600 [==============================] - 4s 133us/step - loss: 0.0603 - acc: 0.9814 - val_loss: 0.4213 - val_acc: 0.9862\n",
      "Epoch 4/20\n",
      "33600/33600 [==============================] - 5s 134us/step - loss: 0.0459 - acc: 0.9855 - val_loss: 0.2915 - val_acc: 0.9871\n",
      "Epoch 5/20\n",
      "33600/33600 [==============================] - 4s 133us/step - loss: 0.0334 - acc: 0.9895 - val_loss: 0.1565 - val_acc: 0.9905\n",
      "Epoch 6/20\n",
      "33600/33600 [==============================] - 5s 134us/step - loss: 0.0279 - acc: 0.9907 - val_loss: 0.0786 - val_acc: 0.9890\n",
      "Epoch 7/20\n",
      "33600/33600 [==============================] - 4s 134us/step - loss: 0.0218 - acc: 0.9932 - val_loss: 0.0637 - val_acc: 0.9890\n",
      "Epoch 8/20\n",
      "33600/33600 [==============================] - 4s 133us/step - loss: 0.0195 - acc: 0.9934 - val_loss: 0.0516 - val_acc: 0.9899\n",
      "Epoch 9/20\n",
      "33600/33600 [==============================] - 5s 134us/step - loss: 0.0173 - acc: 0.9943 - val_loss: 0.0411 - val_acc: 0.9887\n",
      "Epoch 10/20\n",
      "33600/33600 [==============================] - 4s 134us/step - loss: 0.0129 - acc: 0.9957 - val_loss: 0.0322 - val_acc: 0.9914\n",
      "Epoch 11/20\n",
      "33600/33600 [==============================] - 4s 133us/step - loss: 0.0111 - acc: 0.9963 - val_loss: 0.0316 - val_acc: 0.9915\n",
      "Epoch 12/20\n",
      "33600/33600 [==============================] - 5s 135us/step - loss: 0.0104 - acc: 0.9965 - val_loss: 0.0335 - val_acc: 0.9901\n",
      "Epoch 13/20\n",
      "33600/33600 [==============================] - 5s 136us/step - loss: 0.0077 - acc: 0.9976 - val_loss: 0.0360 - val_acc: 0.9912\n",
      "Epoch 14/20\n",
      "33600/33600 [==============================] - 4s 134us/step - loss: 0.0088 - acc: 0.9972 - val_loss: 0.0347 - val_acc: 0.9927\n",
      "Epoch 15/20\n",
      "33600/33600 [==============================] - 5s 134us/step - loss: 0.0072 - acc: 0.9975 - val_loss: 0.0358 - val_acc: 0.9921\n",
      "Epoch 16/20\n",
      "33600/33600 [==============================] - 4s 134us/step - loss: 0.0057 - acc: 0.9980 - val_loss: 0.0447 - val_acc: 0.9915\n",
      "Epoch 17/20\n",
      "33600/33600 [==============================] - 4s 134us/step - loss: 0.0063 - acc: 0.9980 - val_loss: 0.0465 - val_acc: 0.9911\n",
      "Epoch 18/20\n",
      "33600/33600 [==============================] - 4s 133us/step - loss: 0.0052 - acc: 0.9984 - val_loss: 0.0418 - val_acc: 0.9913\n",
      "Epoch 19/20\n",
      "33600/33600 [==============================] - 4s 133us/step - loss: 0.0045 - acc: 0.9986 - val_loss: 0.0444 - val_acc: 0.9918\n",
      "Epoch 20/20\n",
      "33600/33600 [==============================] - 5s 134us/step - loss: 0.0046 - acc: 0.9987 - val_loss: 0.0494 - val_acc: 0.9905\n"
     ]
    }
   ],
   "source": [
    "classifier = cnn()\n",
    "# traing the model with 20 epochs and 1000 batch size\n",
    "\n",
    "#create tensorboard instance\n",
    "history2 = classifier.fit(Xtrain, ytrain, epochs=20, batch_size=1000, validation_data=(Xtest, ytest))"
   ]
  },
  {
   "cell_type": "code",
   "execution_count": 23,
   "metadata": {
    "ExecuteTime": {
     "end_time": "2020-03-04T02:03:11.599127Z",
     "start_time": "2020-03-04T02:03:11.447113Z"
    }
   },
   "outputs": [
    {
     "data": {
      "image/png": "[encoded data removed]",
      "text/plain": [
       "<Figure size 432x288 with 1 Axes>"
      ]
     },
     "metadata": {
      "needs_background": "light"
     },
     "output_type": "display_data"
    }
   ],
   "source": [
    "plt.plot(history2.history['val_loss'],'g')\n",
    "plt.show()"
   ]
  },
  {
   "cell_type": "code",
   "execution_count": 24,
   "metadata": {
    "ExecuteTime": {
     "end_time": "2020-03-04T02:03:23.639532Z",
     "start_time": "2020-03-04T02:03:23.629035Z"
    }
   },
   "outputs": [],
   "source": [
    "# prediction of submission_test set\n",
    "prediction = classifier.predict(test)\n",
    "validation = classifier.predict(Xtest)\n",
    "predictions = np.argmax(prediction, axis=1)"
   ]
  },
  {
   "cell_type": "code",
   "execution_count": 25,
   "metadata": {
    "ExecuteTime": {
     "end_time": "2020-03-04T02:02:07.757726Z",
     "start_time": "2020-03-04T01:34:26.879Z"
    }
   },
   "outputs": [
    {
     "name": "stdout",
     "output_type": "stream",
     "text": [
      "[1 0 2 5 1 7 8 2 6 7 6 1 5 0 6 3 7 4 3 4 1 1 0 5 5 6 9 9 7 9]\n",
      "[1 0 2 5 1 7 8 2 6 7 6 1 5 0 6 3 7 4 3 4 1 1 0 5 5 6 9 9 7 9]\n"
     ]
    }
   ],
   "source": [
    "validations = np.argmax(validation,axis = 1)\n",
    "y_test= np.argmax(ytest,axis = 1)\n",
    "print(y_test[0:30])\n",
    "print(validations[0:30])"
   ]
  },
  {
   "cell_type": "code",
   "execution_count": 26,
   "metadata": {
    "ExecuteTime": {
     "end_time": "2020-03-04T02:02:07.758945Z",
     "start_time": "2020-03-04T01:34:26.880Z"
    }
   },
   "outputs": [
    {
     "name": "stdout",
     "output_type": "stream",
     "text": [
      "       ImageId  Label\n",
      "0            1      2\n",
      "1            2      0\n",
      "2            3      9\n",
      "3            4      0\n",
      "4            5      3\n",
      "...        ...    ...\n",
      "27995    27996      9\n",
      "27996    27997      7\n",
      "27997    27998      3\n",
      "27998    27999      9\n",
      "27999    28000      2\n",
      "\n",
      "[28000 rows x 2 columns]\n"
     ]
    }
   ],
   "source": [
    "# submission\n",
    "submissions = pd.DataFrame({\"ImageId\": list(range(1, len(predictions)+1)),\n",
    "                            \"Label\": predictions})\n",
    "print(submissions)"
   ]
  },
  {
   "cell_type": "code",
   "execution_count": 27,
   "metadata": {
    "ExecuteTime": {
     "end_time": "2020-03-04T02:02:07.760163Z",
     "start_time": "2020-03-04T01:34:26.881Z"
    }
   },
   "outputs": [
    {
     "data": {
      "text/plain": [
       "(28000, 2)"
      ]
     },
     "execution_count": 27,
     "metadata": {},
     "output_type": "execute_result"
    }
   ],
   "source": [
    "submissions.to_csv(\"submit.csv\", index=False, header=True)\n",
    "submissions.shape"
   ]
  }
 ],
 "metadata": {
  "kernelspec": {
   "display_name": "PlaidMl",
   "language": "python",
   "name": "plaidml"
  },
  "language_info": {
   "codemirror_mode": {
    "name": "ipython",
    "version": 3
   },
   "file_extension": ".py",
   "mimetype": "text/x-python",
   "name": "python",
   "nbconvert_exporter": "python",
   "pygments_lexer": "ipython3",
   "version": "3.6.9"
  },
  "latex_envs": {
   "LaTeX_envs_menu_present": true,
   "autoclose": false,
   "autocomplete": true,
   "bibliofile": "biblio.bib",
   "cite_by": "apalike",
   "current_citInitial": 1,
   "eqLabelWithNumbers": true,
   "eqNumInitial": 1,
   "hotkeys": {
    "equation": "Ctrl-E",
    "itemize": "Ctrl-I"
   },
   "labels_anchors": false,
   "latex_user_defs": false,
   "report_style_numbering": false,
   "user_envs_cfg": false
  },
  "toc": {
   "base_numbering": 1,
   "nav_menu": {},
   "number_sections": true,
   "sideBar": true,
   "skip_h1_title": false,
   "title_cell": "Table of Contents",
   "title_sidebar": "Contents",
   "toc_cell": false,
   "toc_position": {},
   "toc_section_display": true,
   "toc_window_display": false
  },
  "varInspector": {
   "cols": {
    "lenName": 16,
    "lenType": 16,
    "lenVar": 40
   },
   "kernels_config": {
    "python": {
     "delete_cmd_postfix": "",
     "delete_cmd_prefix": "del ",
     "library": "var_list.py",
     "varRefreshCmd": "print(var_dic_list())"
    },
    "r": {
     "delete_cmd_postfix": ") ",
     "delete_cmd_prefix": "rm(",
     "library": "var_list.r",
     "varRefreshCmd": "cat(var_dic_list()) "
    }
   },
   "position": {
    "height": "223px",
    "left": "1412px",
    "right": "20px",
    "top": "-1px",
    "width": "470px"
   },
   "types_to_exclude": [
    "module",
    "function",
    "builtin_function_or_method",
    "instance",
    "_Feature"
   ],
   "window_display": true
  }
 },
 "nbformat": 4,
 "nbformat_minor": 2
}
