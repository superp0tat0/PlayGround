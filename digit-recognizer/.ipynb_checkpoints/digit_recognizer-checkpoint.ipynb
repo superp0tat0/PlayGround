{
 "cells": [
  {
   "cell_type": "code",
   "execution_count": 20,
   "metadata": {
    "ExecuteTime": {
     "end_time": "2020-02-25T01:13:51.099141Z",
     "start_time": "2020-02-25T01:13:51.080245Z"
    }
   },
   "outputs": [
    {
     "ename": "ModuleNotFoundError",
     "evalue": "No module named 'plaidml'",
     "output_type": "error",
     "traceback": [
      "\u001b[0;31m---------------------------------------------------------------------------\u001b[0m",
      "\u001b[0;31mModuleNotFoundError\u001b[0m                       Traceback (most recent call last)",
      "\u001b[0;32m<ipython-input-20-9cc7b1d3972a>\u001b[0m in \u001b[0;36m<module>\u001b[0;34m\u001b[0m\n\u001b[0;32m----> 1\u001b[0;31m \u001b[0;32mimport\u001b[0m \u001b[0mplaidml\u001b[0m\u001b[0;34m.\u001b[0m\u001b[0mkeras\u001b[0m\u001b[0;34m\u001b[0m\u001b[0;34m\u001b[0m\u001b[0m\n\u001b[0m\u001b[1;32m      2\u001b[0m \u001b[0mplaidml\u001b[0m\u001b[0;34m.\u001b[0m\u001b[0mkeras\u001b[0m\u001b[0;34m.\u001b[0m\u001b[0minstall_backend\u001b[0m\u001b[0;34m(\u001b[0m\u001b[0;34m)\u001b[0m\u001b[0;34m\u001b[0m\u001b[0;34m\u001b[0m\u001b[0m\n\u001b[1;32m      3\u001b[0m \u001b[0;32mimport\u001b[0m \u001b[0mos\u001b[0m\u001b[0;34m\u001b[0m\u001b[0;34m\u001b[0m\u001b[0m\n\u001b[1;32m      4\u001b[0m \u001b[0mos\u001b[0m\u001b[0;34m.\u001b[0m\u001b[0menviron\u001b[0m\u001b[0;34m[\u001b[0m\u001b[0;34m\"KERAS_BACKEND\"\u001b[0m\u001b[0;34m]\u001b[0m \u001b[0;34m=\u001b[0m \u001b[0;34m\"plaidml.keras.backend\"\u001b[0m\u001b[0;34m\u001b[0m\u001b[0;34m\u001b[0m\u001b[0m\n",
      "\u001b[0;31mModuleNotFoundError\u001b[0m: No module named 'plaidml'"
     ]
    }
   ],
   "source": [
    "import plaidml.keras\n",
    "plaidml.keras.install_backend()\n",
    "import os\n",
    "os.environ[\"KERAS_BACKEND\"] = \"plaidml.keras.backend\""
   ]
  },
  {
   "cell_type": "code",
   "execution_count": 1,
   "metadata": {
    "ExecuteTime": {
     "end_time": "2020-02-24T23:34:57.754190Z",
     "start_time": "2020-02-24T23:34:52.404094Z"
    }
   },
   "outputs": [
    {
     "name": "stderr",
     "output_type": "stream",
     "text": [
      "Using TensorFlow backend.\n"
     ]
    }
   ],
   "source": [
    "from keras import models, layers\n",
    "import numpy as np\n",
    "from keras.utils import to_categorical\n",
    "import pandas as pd\n",
    "import matplotlib.pyplot as plt\n",
    "from keras.layers import Convolution2D, MaxPooling2D, Flatten, Dropout, BatchNormalization, Dense, Lambda\n",
    "from sklearn.model_selection import train_test_split\n",
    "import warnings\n",
    "from keras.callbacks import TensorBoard\n",
    "import time\n",
    "import scipy.stats\n",
    "import tensorflow as tf\n",
    "from keras.layers import Activation\n",
    "from keras.utils.generic_utils import get_custom_objects\n",
    "from keras.models import Sequential\n",
    "from keras.layers import Dense\n",
    "\n",
    "warnings.filterwarnings(\"ignore\")"
   ]
  },
  {
   "cell_type": "code",
   "execution_count": 2,
   "metadata": {
    "ExecuteTime": {
     "end_time": "2020-02-24T23:34:57.761400Z",
     "start_time": "2020-02-24T23:34:57.756488Z"
    }
   },
   "outputs": [
    {
     "data": {
      "text/plain": [
       "'/Users/siyiwei/Desktop/digit-recognizer'"
      ]
     },
     "execution_count": 2,
     "metadata": {},
     "output_type": "execute_result"
    }
   ],
   "source": [
    "import os\n",
    "os.getcwd()"
   ]
  },
  {
   "cell_type": "markdown",
   "metadata": {},
   "source": [
    "Input all the Data"
   ]
  },
  {
   "cell_type": "code",
   "execution_count": 3,
   "metadata": {
    "ExecuteTime": {
     "end_time": "2020-02-24T23:35:01.355548Z",
     "start_time": "2020-02-24T23:34:57.763672Z"
    }
   },
   "outputs": [],
   "source": [
    "train = pd.read_csv(\"./train.csv\")\n",
    "test = pd.read_csv(\"./test.csv\")\n",
    "submisssion = pd.read_csv(\"./sample_submission.csv\")"
   ]
  },
  {
   "cell_type": "code",
   "execution_count": 4,
   "metadata": {
    "ExecuteTime": {
     "end_time": "2020-02-24T23:35:01.484200Z",
     "start_time": "2020-02-24T23:35:01.357651Z"
    },
    "scrolled": true
   },
   "outputs": [
    {
     "data": {
      "image/png": "[encoded data removed]",
      "text/plain": [
       "<Figure size 432x288 with 1 Axes>"
      ]
     },
     "metadata": {
      "needs_background": "light"
     },
     "output_type": "display_data"
    }
   ],
   "source": [
    "plt.imshow(np.array(test[7:8]).reshape(28, 28))\n",
    "plt.show()\n",
    "x = 3\n",
    "y = \"string\""
   ]
  },
  {
   "cell_type": "code",
   "execution_count": 5,
   "metadata": {
    "ExecuteTime": {
     "end_time": "2020-02-24T23:35:02.479933Z",
     "start_time": "2020-02-24T23:35:01.485785Z"
    }
   },
   "outputs": [],
   "source": [
    "X = train.iloc[:, 1:]/255.\n",
    "y = train.iloc[:, 0]\n",
    "test = test/255."
   ]
  },
  {
   "cell_type": "code",
   "execution_count": 6,
   "metadata": {
    "ExecuteTime": {
     "end_time": "2020-02-24T23:35:02.485594Z",
     "start_time": "2020-02-24T23:35:02.481991Z"
    }
   },
   "outputs": [],
   "source": [
    "# reshaping 784 to 28,28,1\n",
    "X = X.values.reshape(train.shape[0], 28, 28, 1)\n",
    "test = test.values.reshape(test.shape[0], 28, 28, 1)"
   ]
  },
  {
   "cell_type": "code",
   "execution_count": 7,
   "metadata": {
    "ExecuteTime": {
     "end_time": "2020-02-24T23:35:03.043893Z",
     "start_time": "2020-02-24T23:35:02.487622Z"
    }
   },
   "outputs": [
    {
     "data": {
      "text/plain": [
       "((29400, 28, 28, 1), (29400, 10), (12600, 28, 28, 1), (12600, 10))"
      ]
     },
     "execution_count": 7,
     "metadata": {},
     "output_type": "execute_result"
    }
   ],
   "source": [
    "# one hot of target values using keras's to_categorical class\n",
    "y = to_categorical(y)\n",
    "\n",
    "# splits train/test set\n",
    "Xtrain, Xtest, ytrain, ytest = train_test_split(\n",
    "    X, y, test_size=0.3, random_state=29)\n",
    "\n",
    "# Shape\n",
    "Xtrain.shape, ytrain.shape, Xtest.shape, ytest.shape"
   ]
  },
  {
   "cell_type": "code",
   "execution_count": 8,
   "metadata": {
    "ExecuteTime": {
     "end_time": "2020-02-24T23:35:03.230684Z",
     "start_time": "2020-02-24T23:35:03.047548Z"
    }
   },
   "outputs": [],
   "source": [
    "# in model i am using BatchNormalization so for first step, i menualy normalize the batch\n",
    "mean_px = Xtrain.mean().astype(np.float32)\n",
    "std_px = Xtrain.std().astype(np.float32)\n",
    "\n",
    "def standardize(x):\n",
    "    return (x-mean_px)/std_px\n",
    "\n",
    "#Create a new activation function\n",
    "from keras import backend as K\n",
    "def custom_activation(x):\n",
    "    return (K.exp(-((x-4)**2)))"
   ]
  },
  {
   "cell_type": "code",
   "execution_count": 16,
   "metadata": {
    "ExecuteTime": {
     "end_time": "2020-02-24T23:54:33.447287Z",
     "start_time": "2020-02-24T23:54:33.438975Z"
    }
   },
   "outputs": [],
   "source": [
    "# this is a model with dropouts layers\n",
    "def cnn():\n",
    "    model = models.Sequential()\n",
    "    model.add(Lambda(standardize, input_shape=(28, 28, 1)))\n",
    "    model.add(Convolution2D(32, (3, 3), activation=\"relu\"))\n",
    "    model.add(BatchNormalization(axis=1))\n",
    "    model.add(Convolution2D(64, (3, 3), activation=\"relu\"))\n",
    "    model.add(MaxPooling2D())\n",
    "    model.add(Convolution2D(128, (3, 3), activation=\"relu\"))\n",
    "    model.add(BatchNormalization(axis=1))\n",
    "    model.add(Convolution2D(128, (2, 2), activation=\"relu\"))\n",
    "    model.add(MaxPooling2D())\n",
    "    model.add(Flatten())\n",
    "    model.add(Dense(256, activation=\"relu\"))\n",
    "    model.add(Dropout(0.4))\n",
    "    model.add(Dense(256, activation=\"relu\"))\n",
    "    model.add(Dropout(0.3))\n",
    "    model.add(Dense(10, activation='softmax'))\n",
    "    model.compile(optimizer='adam', loss='categorical_crossentropy',\n",
    "                  metrics=['accuracy'])\n",
    "    return model"
   ]
  },
  {
   "cell_type": "code",
   "execution_count": 17,
   "metadata": {
    "ExecuteTime": {
     "end_time": "2020-02-25T00:24:34.641262Z",
     "start_time": "2020-02-24T23:54:36.746073Z"
    },
    "scrolled": true
   },
   "outputs": [
    {
     "name": "stdout",
     "output_type": "stream",
     "text": [
      "Train on 29400 samples, validate on 12600 samples\n",
      "Epoch 1/20\n",
      "29400/29400 [==============================] - 92s 3ms/step - loss: 0.7813 - acc: 0.7509 - val_loss: 0.1320 - val_acc: 0.9608\n",
      "Epoch 2/20\n",
      "29400/29400 [==============================] - 90s 3ms/step - loss: 0.1573 - acc: 0.9537 - val_loss: 0.0788 - val_acc: 0.9763\n",
      "Epoch 3/20\n",
      "29400/29400 [==============================] - 89s 3ms/step - loss: 0.0960 - acc: 0.9707 - val_loss: 0.0524 - val_acc: 0.9845\n",
      "Epoch 4/20\n",
      "29400/29400 [==============================] - 89s 3ms/step - loss: 0.0645 - acc: 0.9809 - val_loss: 0.0502 - val_acc: 0.9852\n",
      "Epoch 5/20\n",
      "29400/29400 [==============================] - 89s 3ms/step - loss: 0.0586 - acc: 0.9826 - val_loss: 0.0469 - val_acc: 0.9860\n",
      "Epoch 6/20\n",
      "29400/29400 [==============================] - 89s 3ms/step - loss: 0.0441 - acc: 0.9869 - val_loss: 0.0359 - val_acc: 0.9893\n",
      "Epoch 7/20\n",
      "29400/29400 [==============================] - 90s 3ms/step - loss: 0.0374 - acc: 0.9882 - val_loss: 0.0417 - val_acc: 0.9876\n",
      "Epoch 8/20\n",
      "29400/29400 [==============================] - 89s 3ms/step - loss: 0.0332 - acc: 0.9902 - val_loss: 0.0402 - val_acc: 0.9888\n",
      "Epoch 9/20\n",
      "29400/29400 [==============================] - 91s 3ms/step - loss: 0.0273 - acc: 0.9915 - val_loss: 0.0429 - val_acc: 0.9880\n",
      "Epoch 10/20\n",
      "29400/29400 [==============================] - 90s 3ms/step - loss: 0.0240 - acc: 0.9932 - val_loss: 0.0355 - val_acc: 0.9910\n",
      "Epoch 11/20\n",
      "29400/29400 [==============================] - 90s 3ms/step - loss: 0.0201 - acc: 0.9938 - val_loss: 0.0359 - val_acc: 0.9900\n",
      "Epoch 12/20\n",
      "29400/29400 [==============================] - 93s 3ms/step - loss: 0.0189 - acc: 0.9936 - val_loss: 0.0354 - val_acc: 0.9918\n",
      "Epoch 13/20\n",
      "29400/29400 [==============================] - 92s 3ms/step - loss: 0.0136 - acc: 0.9955 - val_loss: 0.0340 - val_acc: 0.9921\n",
      "Epoch 14/20\n",
      "29400/29400 [==============================] - 92s 3ms/step - loss: 0.0140 - acc: 0.9955 - val_loss: 0.0411 - val_acc: 0.9911\n",
      "Epoch 15/20\n",
      "29400/29400 [==============================] - 89s 3ms/step - loss: 0.0147 - acc: 0.9956 - val_loss: 0.0375 - val_acc: 0.9910\n",
      "Epoch 16/20\n",
      "29400/29400 [==============================] - 88s 3ms/step - loss: 0.0138 - acc: 0.9956 - val_loss: 0.0337 - val_acc: 0.9921\n",
      "Epoch 17/20\n",
      "29400/29400 [==============================] - 89s 3ms/step - loss: 0.0109 - acc: 0.9964 - val_loss: 0.0350 - val_acc: 0.9915\n",
      "Epoch 18/20\n",
      "29400/29400 [==============================] - 89s 3ms/step - loss: 0.0097 - acc: 0.9967 - val_loss: 0.0445 - val_acc: 0.9903\n",
      "Epoch 19/20\n",
      "29400/29400 [==============================] - 89s 3ms/step - loss: 0.0098 - acc: 0.9971 - val_loss: 0.0454 - val_acc: 0.9904\n",
      "Epoch 20/20\n",
      "29400/29400 [==============================] - 89s 3ms/step - loss: 0.0104 - acc: 0.9968 - val_loss: 0.0451 - val_acc: 0.9915\n"
     ]
    }
   ],
   "source": [
    "classifier = cnn()\n",
    "# traing the model with 20 epochs and 1000 batch size\n",
    "\n",
    "#create tensorboard instance\n",
    "tensorboard = TensorBoard(log_dir=\"logs/{}\".format(time.time()))\n",
    "history2 = classifier.fit(Xtrain, ytrain, epochs=20, batch_size=1000, callbacks=[tensorboard],\n",
    "               validation_data=(Xtest, ytest))"
   ]
  },
  {
   "cell_type": "code",
   "execution_count": 19,
   "metadata": {
    "ExecuteTime": {
     "end_time": "2020-02-25T01:06:46.927870Z",
     "start_time": "2020-02-25T01:06:46.799824Z"
    }
   },
   "outputs": [
    {
     "name": "stdout",
     "output_type": "stream",
     "text": [
      "dict_keys(['val_loss', 'val_acc', 'loss', 'acc'])\n"
     ]
    },
    {
     "data": {
      "image/png": "[encoded data removed]",
      "text/plain": [
       "<Figure size 432x288 with 1 Axes>"
      ]
     },
     "metadata": {
      "needs_background": "light"
     },
     "output_type": "display_data"
    }
   ],
   "source": [
    "print(history.history.keys())\n",
    "plt.plot(history.history['val_loss'])\n",
    "plt.plot(history2.history['val_loss'],'g')\n",
    "plt.show()"
   ]
  },
  {
   "cell_type": "code",
   "execution_count": null,
   "metadata": {
    "ExecuteTime": {
     "end_time": "2020-02-24T23:35:04.891454Z",
     "start_time": "2020-02-24T23:34:52.436Z"
    }
   },
   "outputs": [],
   "source": [
    "# prediction of submission_test set\n",
    "prediction = classifier.predict(test)\n",
    "validation = classifier.predict(Xtest)\n",
    "predictions = np.argmax(prediction, axis=1)"
   ]
  },
  {
   "cell_type": "code",
   "execution_count": null,
   "metadata": {
    "ExecuteTime": {
     "end_time": "2020-02-24T23:35:04.892820Z",
     "start_time": "2020-02-24T23:34:52.438Z"
    }
   },
   "outputs": [],
   "source": [
    "validations = np.argmax(validation,axis = 1)\n",
    "y_test= np.argmax(ytest,axis = 1)\n",
    "print(y_test[0:30])\n",
    "print(validations[0:30])"
   ]
  },
  {
   "cell_type": "code",
   "execution_count": null,
   "metadata": {
    "ExecuteTime": {
     "end_time": "2020-02-24T23:35:04.893923Z",
     "start_time": "2020-02-24T23:34:52.441Z"
    }
   },
   "outputs": [],
   "source": [
    "# submission\n",
    "submissions = pd.DataFrame({\"ImageId\": list(range(1, len(predictions)+1)),\n",
    "                            \"Label\": predictions})\n",
    "print(submissions)"
   ]
  },
  {
   "cell_type": "code",
   "execution_count": null,
   "metadata": {
    "ExecuteTime": {
     "end_time": "2020-02-24T23:35:04.894942Z",
     "start_time": "2020-02-24T23:34:52.442Z"
    }
   },
   "outputs": [],
   "source": [
    "submissions.to_csv(\"submit.csv\", index=False, header=True)\n",
    "submissions.shape"
   ]
  }
 ],
 "metadata": {
  "kernelspec": {
   "display_name": "Python 3",
   "language": "python",
   "name": "python3"
  },
  "language_info": {
   "codemirror_mode": {
    "name": "ipython",
    "version": 3
   },
   "file_extension": ".py",
   "mimetype": "text/x-python",
   "name": "python",
   "nbconvert_exporter": "python",
   "pygments_lexer": "ipython3",
   "version": "3.7.4"
  },
  "latex_envs": {
   "LaTeX_envs_menu_present": true,
   "autoclose": false,
   "autocomplete": true,
   "bibliofile": "biblio.bib",
   "cite_by": "apalike",
   "current_citInitial": 1,
   "eqLabelWithNumbers": true,
   "eqNumInitial": 1,
   "hotkeys": {
    "equation": "Ctrl-E",
    "itemize": "Ctrl-I"
   },
   "labels_anchors": false,
   "latex_user_defs": false,
   "report_style_numbering": false,
   "user_envs_cfg": false
  },
  "toc": {
   "base_numbering": 1,
   "nav_menu": {},
   "number_sections": true,
   "sideBar": true,
   "skip_h1_title": false,
   "title_cell": "Table of Contents",
   "title_sidebar": "Contents",
   "toc_cell": false,
   "toc_position": {},
   "toc_section_display": true,
   "toc_window_display": false
  },
  "varInspector": {
   "cols": {
    "lenName": 16,
    "lenType": 16,
    "lenVar": 40
   },
   "kernels_config": {
    "python": {
     "delete_cmd_postfix": "",
     "delete_cmd_prefix": "del ",
     "library": "var_list.py",
     "varRefreshCmd": "print(var_dic_list())"
    },
    "r": {
     "delete_cmd_postfix": ") ",
     "delete_cmd_prefix": "rm(",
     "library": "var_list.r",
     "varRefreshCmd": "cat(var_dic_list()) "
    }
   },
   "position": {
    "height": "223px",
    "left": "1412px",
    "right": "20px",
    "top": "-1px",
    "width": "470px"
   },
   "types_to_exclude": [
    "module",
    "function",
    "builtin_function_or_method",
    "instance",
    "_Feature"
   ],
   "window_display": true
  }
 },
 "nbformat": 4,
 "nbformat_minor": 2
}
