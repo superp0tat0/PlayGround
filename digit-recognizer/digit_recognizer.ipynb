{
 "cells": [
  {
   "cell_type": "code",
   "execution_count": 1,
   "metadata": {
    "ExecuteTime": {
     "end_time": "2020-03-04T01:34:27.658582Z",
     "start_time": "2020-03-04T01:34:26.841681Z"
    }
   },
   "outputs": [],
   "source": [
    "import plaidml.keras\n",
    "plaidml.keras.install_backend()\n",
    "import os\n",
    "os.environ[\"KERAS_BACKEND\"] = \"plaidml.keras.backend\""
   ]
  },
  {
   "cell_type": "code",
   "execution_count": 2,
   "metadata": {
    "ExecuteTime": {
     "end_time": "2020-03-04T01:34:28.387961Z",
     "start_time": "2020-03-04T01:34:27.660150Z"
    }
   },
   "outputs": [],
   "source": [
    "from keras import models, layers\n",
    "import numpy as np\n",
    "from keras.utils import to_categorical\n",
    "import pandas as pd\n",
    "import matplotlib.pyplot as plt\n",
    "from keras.layers import Convolution2D, MaxPooling2D, Flatten, Dropout, BatchNormalization, Dense, Lambda\n",
    "from sklearn.model_selection import train_test_split\n",
    "import warnings\n",
    "from keras.callbacks import TensorBoard\n",
    "import time\n",
    "import scipy.stats\n",
    "from keras.layers import Activation\n",
    "from keras.utils.generic_utils import get_custom_objects\n",
    "from keras.models import Sequential\n",
    "from keras.layers import Dense\n",
    "\n",
    "warnings.filterwarnings(\"ignore\")"
   ]
  },
  {
   "cell_type": "code",
   "execution_count": 3,
   "metadata": {
    "ExecuteTime": {
     "end_time": "2020-03-04T01:34:28.394743Z",
     "start_time": "2020-03-04T01:34:28.389961Z"
    }
   },
   "outputs": [
    {
     "data": {
      "text/plain": [
       "'/home/siyi/Desktop/PlayGround/digit-recognizer'"
      ]
     },
     "execution_count": 3,
     "metadata": {},
     "output_type": "execute_result"
    }
   ],
   "source": [
    "import os\n",
    "os.getcwd()"
   ]
  },
  {
   "cell_type": "markdown",
   "metadata": {},
   "source": []
  },
  {
   "cell_type": "code",
   "execution_count": 4,
   "metadata": {
    "ExecuteTime": {
     "end_time": "2020-03-04T01:34:32.152475Z",
     "start_time": "2020-03-04T01:34:28.396771Z"
    }
   },
   "outputs": [],
   "source": [
    "train = pd.read_csv(\"./train.csv\")\n",
    "test = pd.read_csv(\"./test.csv\")\n",
    "submisssion = pd.read_csv(\"./sample_submission.csv\")"
   ]
  },
  {
   "cell_type": "code",
   "execution_count": 5,
   "metadata": {
    "ExecuteTime": {
     "end_time": "2020-03-04T01:34:32.306673Z",
     "start_time": "2020-03-04T01:34:32.154321Z"
    },
    "scrolled": true
   },
   "outputs": [
    {
     "data": {
      "image/png": "[encoded data removed]",
      "text/plain": [
       "<Figure size 432x288 with 1 Axes>"
      ]
     },
     "metadata": {
      "needs_background": "light"
     },
     "output_type": "display_data"
    }
   ],
   "source": [
    "plt.imshow(np.array(test[7:8]).reshape(28, 28))\n",
    "plt.show()\n",
    "x = 3\n",
    "y = \"string\""
   ]
  },
  {
   "cell_type": "code",
   "execution_count": 6,
   "metadata": {
    "ExecuteTime": {
     "end_time": "2020-03-04T01:34:32.576878Z",
     "start_time": "2020-03-04T01:34:32.308493Z"
    }
   },
   "outputs": [],
   "source": [
    "X = train.iloc[:, 1:]/255.\n",
    "y = train.iloc[:, 0]\n",
    "test = test/255."
   ]
  },
  {
   "cell_type": "code",
   "execution_count": 7,
   "metadata": {
    "ExecuteTime": {
     "end_time": "2020-03-04T01:34:32.582073Z",
     "start_time": "2020-03-04T01:34:32.578799Z"
    }
   },
   "outputs": [],
   "source": [
    "# reshaping 784 to 28,28,1\n",
    "X = X.values.reshape(train.shape[0], 28, 28, 1)\n",
    "test = test.values.reshape(test.shape[0], 28, 28, 1)"
   ]
  },
  {
   "cell_type": "code",
   "execution_count": 8,
   "metadata": {
    "ExecuteTime": {
     "end_time": "2020-03-04T01:34:33.422435Z",
     "start_time": "2020-03-04T01:34:32.585758Z"
    }
   },
   "outputs": [
    {
     "data": {
      "text/plain": [
       "((33600, 28, 28, 1), (33600, 10), (8400, 28, 28, 1), (8400, 10))"
      ]
     },
     "execution_count": 8,
     "metadata": {},
     "output_type": "execute_result"
    }
   ],
   "source": [
    "# one hot of target values using keras's to_categorical class\n",
    "y = to_categorical(y)\n",
    "\n",
    "# splits train/test set\n",
    "Xtrain, Xtest, ytrain, ytest = train_test_split(\n",
    "    X, y, test_size=0.2, random_state=29)\n",
    "\n",
    "# Shape\n",
    "Xtrain.shape, ytrain.shape, Xtest.shape, ytest.shape"
   ]
  },
  {
   "cell_type": "code",
   "execution_count": 9,
   "metadata": {
    "ExecuteTime": {
     "end_time": "2020-03-04T01:34:33.624962Z",
     "start_time": "2020-03-04T01:34:33.426381Z"
    }
   },
   "outputs": [],
   "source": [
    "# in model i am using BatchNormalization so for first step, i menualy normalize the batch\n",
    "mean_px = Xtrain.mean().astype(np.float32)\n",
    "std_px = Xtrain.std().astype(np.float32)\n",
    "\n",
    "def standardize(x):\n",
    "    return (x-mean_px)/std_px\n",
    "\n",
    "#Create a new activation function\n",
    "from keras import backend as K\n",
    "def custom_activation(x):\n",
    "    return (K.exp(-((x-4)**2)))"
   ]
  },
  {
   "cell_type": "code",
   "execution_count": 10,
   "metadata": {
    "ExecuteTime": {
     "end_time": "2020-03-04T01:34:33.633903Z",
     "start_time": "2020-03-04T01:34:33.626786Z"
    }
   },
   "outputs": [],
   "source": [
    "# this is a model with dropouts layers\n",
    "def cnn():\n",
    "    model = models.Sequential()\n",
    "    model.add(Lambda(standardize, input_shape=(28, 28, 1)))\n",
    "    model.add(Convolution2D(32, (3, 3), activation=\"relu\"))\n",
    "    model.add(Convolution2D(64, (3, 3), activation=\"relu\"))\n",
    "    model.add(MaxPooling2D())\n",
    "    model.add(Convolution2D(128, (3, 3), activation=\"relu\"))\n",
    "    model.add(MaxPooling2D())\n",
    "    model.add(Flatten())\n",
    "    model.add(Dense(256, activation=\"relu\"))\n",
    "    model.add(Dropout(0.2))\n",
    "    model.add(Dense(256, activation=\"relu\"))\n",
    "    model.add(Dropout(0.2))\n",
    "    model.add(Dense(10, activation='softmax'))\n",
    "    model.compile(optimizer='adam', loss='categorical_crossentropy',\n",
    "                  metrics=['accuracy'])\n",
    "    return model\n",
    "\n",
    "def cnn_N():\n",
    "    model = models.Sequential()\n",
    "    model.add(Lambda(standardize, input_shape=(28, 28, 1)))\n",
    "    model.add(Convolution2D(32, (3, 3), activation=\"relu\"))\n",
    "    model.add(BatchNormalization(axis=1))\n",
    "    model.add(Convolution2D(64, (3, 3), activation=\"relu\"))\n",
    "    model.add(MaxPooling2D())\n",
    "    model.add(BatchNormalization(axis=1))\n",
    "    model.add(Convolution2D(128, (3, 3), activation=\"relu\"))\n",
    "    model.add(MaxPooling2D())\n",
    "    model.add(BatchNormalization(axis=1))\n",
    "    model.add(Flatten())\n",
    "    model.add(Dense(256, activation=\"relu\"))\n",
    "    model.add(Dropout(0.2))\n",
    "    model.add(Dense(256, activation=\"relu\"))\n",
    "    model.add(Dropout(0.2))\n",
    "    model.add(Dense(10, activation='softmax'))\n",
    "    model.compile(optimizer='adam', loss='categorical_crossentropy',\n",
    "                  metrics=['accuracy'])\n",
    "    return model"
   ]
  },
  {
   "cell_type": "code",
   "execution_count": 11,
   "metadata": {
    "ExecuteTime": {
     "end_time": "2020-03-04T02:02:07.559121Z",
     "start_time": "2020-03-04T01:34:33.635459Z"
    }
   },
   "outputs": [
    {
     "name": "stderr",
     "output_type": "stream",
     "text": [
      "INFO:plaidml:Opening device \"opencl_nvidia_geforce_gtx_1070.0\"\n"
     ]
    },
    {
     "name": "stdout",
     "output_type": "stream",
     "text": [
      "Train on 33600 samples, validate on 8400 samples\n",
      "Epoch 1/20\n",
      "33600/33600 [==============================] - 18s 522us/step - loss: 0.6294 - acc: 0.7983 - val_loss: 0.1287 - val_acc: 0.9607\n",
      "Epoch 2/20\n",
      "33600/33600 [==============================] - 4s 114us/step - loss: 0.1069 - acc: 0.9671 - val_loss: 0.0743 - val_acc: 0.9779\n",
      "Epoch 3/20\n",
      "33600/33600 [==============================] - 4s 115us/step - loss: 0.0621 - acc: 0.9809 - val_loss: 0.0529 - val_acc: 0.9849\n",
      "Epoch 4/20\n",
      "33600/33600 [==============================] - 4s 116us/step - loss: 0.0484 - acc: 0.9855 - val_loss: 0.0464 - val_acc: 0.9851\n",
      "Epoch 5/20\n",
      "33600/33600 [==============================] - 4s 115us/step - loss: 0.0402 - acc: 0.9871 - val_loss: 0.0439 - val_acc: 0.9876\n",
      "Epoch 6/20\n",
      "33600/33600 [==============================] - 4s 115us/step - loss: 0.0331 - acc: 0.9896 - val_loss: 0.0440 - val_acc: 0.9882\n",
      "Epoch 7/20\n",
      "33600/33600 [==============================] - 4s 116us/step - loss: 0.0270 - acc: 0.9909 - val_loss: 0.0524 - val_acc: 0.9855\n",
      "Epoch 8/20\n",
      "33600/33600 [==============================] - 4s 115us/step - loss: 0.0222 - acc: 0.9924 - val_loss: 0.0410 - val_acc: 0.9899\n",
      "Epoch 9/20\n",
      "33600/33600 [==============================] - 4s 115us/step - loss: 0.0203 - acc: 0.9935 - val_loss: 0.0458 - val_acc: 0.9880\n",
      "Epoch 10/20\n",
      "33600/33600 [==============================] - 4s 116us/step - loss: 0.0167 - acc: 0.9946 - val_loss: 0.0433 - val_acc: 0.9895\n",
      "Epoch 11/20\n",
      "33600/33600 [==============================] - 4s 116us/step - loss: 0.0162 - acc: 0.9948 - val_loss: 0.0403 - val_acc: 0.9902\n",
      "Epoch 12/20\n",
      "33600/33600 [==============================] - 4s 116us/step - loss: 0.0093 - acc: 0.9970 - val_loss: 0.0397 - val_acc: 0.9917\n",
      "Epoch 13/20\n",
      "33600/33600 [==============================] - 4s 116us/step - loss: 0.0085 - acc: 0.9974 - val_loss: 0.0408 - val_acc: 0.9907\n",
      "Epoch 14/20\n",
      "33600/33600 [==============================] - 4s 116us/step - loss: 0.0083 - acc: 0.9973 - val_loss: 0.0391 - val_acc: 0.9908\n",
      "Epoch 15/20\n",
      "33600/33600 [==============================] - 4s 115us/step - loss: 0.0101 - acc: 0.9965 - val_loss: 0.0398 - val_acc: 0.9924\n",
      "Epoch 16/20\n",
      "33600/33600 [==============================] - 4s 115us/step - loss: 0.0076 - acc: 0.9974 - val_loss: 0.0503 - val_acc: 0.9905\n",
      "Epoch 17/20\n",
      "33600/33600 [==============================] - 4s 115us/step - loss: 0.0062 - acc: 0.9979 - val_loss: 0.0463 - val_acc: 0.9907\n",
      "Epoch 18/20\n",
      "33600/33600 [==============================] - 4s 115us/step - loss: 0.0081 - acc: 0.9973 - val_loss: 0.0430 - val_acc: 0.9904\n",
      "Epoch 19/20\n",
      "33600/33600 [==============================] - 4s 116us/step - loss: 0.0061 - acc: 0.9979 - val_loss: 0.0473 - val_acc: 0.9908\n",
      "Epoch 20/20\n",
      "33600/33600 [==============================] - 4s 116us/step - loss: 0.0045 - acc: 0.9986 - val_loss: 0.0536 - val_acc: 0.9901\n"
     ]
    }
   ],
   "source": [
    "classifier = cnn()\n",
    "history = classifier.fit(Xtrain, ytrain, epochs=20, batch_size=1000, validation_data=(Xtest, ytest))"
   ]
  },
  {
   "cell_type": "code",
   "execution_count": 12,
   "metadata": {
    "ExecuteTime": {
     "end_time": "2020-03-04T02:02:07.559121Z",
     "start_time": "2020-03-04T01:34:33.635459Z"
    },
    "scrolled": true
   },
   "outputs": [
    {
     "name": "stdout",
     "output_type": "stream",
     "text": [
      "Train on 33600 samples, validate on 8400 samples\n",
      "Epoch 1/20\n",
      "33600/33600 [==============================] - 29s 859us/step - loss: 0.5037 - acc: 0.8369 - val_loss: 2.1464 - val_acc: 0.1161\n",
      "Epoch 2/20\n",
      "33600/33600 [==============================] - 5s 155us/step - loss: 0.5037 - acc: 0.8452 - val_loss: 3.2713 - val_acc: 0.1105\n",
      "Epoch 3/20\n",
      "33600/33600 [==============================] - 5s 155us/step - loss: 0.9637 - acc: 0.7090 - val_loss: 1.7889 - val_acc: 0.2061\n",
      "Epoch 4/20\n",
      "33600/33600 [==============================] - 5s 156us/step - loss: 0.3698 - acc: 0.8837 - val_loss: 1.8850 - val_acc: 0.2661\n",
      "Epoch 5/20\n",
      "33600/33600 [==============================] - 5s 155us/step - loss: 0.3280 - acc: 0.8964 - val_loss: 1.6291 - val_acc: 0.3906\n",
      "Epoch 6/20\n",
      "33600/33600 [==============================] - 5s 156us/step - loss: 0.4868 - acc: 0.8369 - val_loss: 2.4740 - val_acc: 0.2076\n",
      "Epoch 7/20\n",
      "33600/33600 [==============================] - 5s 157us/step - loss: 0.5168 - acc: 0.8308 - val_loss: 2.2651 - val_acc: 0.2593\n",
      "Epoch 8/20\n",
      "33600/33600 [==============================] - 5s 156us/step - loss: 0.6649 - acc: 0.7809 - val_loss: 1.4813 - val_acc: 0.4862\n",
      "Epoch 9/20\n",
      "33600/33600 [==============================] - 5s 156us/step - loss: 1.2080 - acc: 0.6404 - val_loss: 12.6619 - val_acc: 0.2411\n",
      "Epoch 10/20\n",
      "33600/33600 [==============================] - 5s 156us/step - loss: 0.4460 - acc: 0.8559 - val_loss: 1.3936 - val_acc: 0.6973\n",
      "Epoch 11/20\n",
      "33600/33600 [==============================] - 5s 156us/step - loss: 0.2407 - acc: 0.9253 - val_loss: 0.4918 - val_acc: 0.8582\n",
      "Epoch 12/20\n",
      "33600/33600 [==============================] - 5s 156us/step - loss: 0.1918 - acc: 0.9385 - val_loss: 0.2353 - val_acc: 0.9268\n",
      "Epoch 13/20\n",
      "33600/33600 [==============================] - 5s 157us/step - loss: 0.1633 - acc: 0.9484 - val_loss: 0.1634 - val_acc: 0.9483\n",
      "Epoch 14/20\n",
      "33600/33600 [==============================] - 5s 156us/step - loss: 0.1455 - acc: 0.9544 - val_loss: 0.1275 - val_acc: 0.9585\n",
      "Epoch 15/20\n",
      "33600/33600 [==============================] - 5s 156us/step - loss: 0.1361 - acc: 0.9561 - val_loss: 0.1201 - val_acc: 0.9613\n",
      "Epoch 16/20\n",
      "33600/33600 [==============================] - 5s 156us/step - loss: 0.1265 - acc: 0.9592 - val_loss: 0.1087 - val_acc: 0.9646\n",
      "Epoch 17/20\n",
      "33600/33600 [==============================] - 5s 156us/step - loss: 0.1170 - acc: 0.9633 - val_loss: 0.1134 - val_acc: 0.9643\n",
      "Epoch 18/20\n",
      "33600/33600 [==============================] - 5s 156us/step - loss: 0.1153 - acc: 0.9638 - val_loss: 0.1093 - val_acc: 0.9645\n",
      "Epoch 19/20\n",
      "33600/33600 [==============================] - 5s 156us/step - loss: 0.1063 - acc: 0.9655 - val_loss: 0.1026 - val_acc: 0.9671\n",
      "Epoch 20/20\n",
      "33600/33600 [==============================] - 5s 156us/step - loss: 0.1070 - acc: 0.9657 - val_loss: 0.1277 - val_acc: 0.9595\n"
     ]
    }
   ],
   "source": [
    "classifier_BN = cnn_N()\n",
    "history_BN = classifier_BN.fit(Xtrain, ytrain, epochs=20, batch_size=1000, validation_data=(Xtest, ytest))"
   ]
  },
  {
   "cell_type": "code",
   "execution_count": 13,
   "metadata": {
    "ExecuteTime": {
     "end_time": "2020-03-04T02:03:11.599127Z",
     "start_time": "2020-03-04T02:03:11.447113Z"
    }
   },
   "outputs": [
    {
     "data": {
      "image/png": "[encoded data removed]",
      "text/plain": [
       "<Figure size 432x288 with 1 Axes>"
      ]
     },
     "metadata": {
      "needs_background": "light"
     },
     "output_type": "display_data"
    }
   ],
   "source": [
    "plt.plot(history.history['val_loss'],'g')\n",
    "plt.plot(history_BN.history['val_loss'],'r')\n",
    "plt.show()"
   ]
  },
  {
   "cell_type": "code",
   "execution_count": 14,
   "metadata": {
    "ExecuteTime": {
     "end_time": "2020-03-04T02:03:23.639532Z",
     "start_time": "2020-03-04T02:03:23.629035Z"
    }
   },
   "outputs": [],
   "source": [
    "# prediction of submission_test set\n",
    "prediction = classifier.predict(test)\n",
    "validation = classifier.predict(Xtest)\n",
    "predictions = np.argmax(prediction, axis=1)"
   ]
  },
  {
   "cell_type": "code",
   "execution_count": 15,
   "metadata": {
    "ExecuteTime": {
     "end_time": "2020-03-04T02:02:07.757726Z",
     "start_time": "2020-03-04T01:34:26.879Z"
    }
   },
   "outputs": [
    {
     "name": "stdout",
     "output_type": "stream",
     "text": [
      "[1 0 2 5 1 7 8 2 6 7 6 1 5 0 6 3 7 4 3 4 1 1 0 5 5 6 9 9 7 9]\n",
      "[1 0 2 5 1 7 8 2 6 7 6 1 5 0 6 3 7 4 3 4 1 1 0 5 5 6 9 9 7 9]\n"
     ]
    }
   ],
   "source": [
    "validations = np.argmax(validation,axis = 1)\n",
    "y_test= np.argmax(ytest,axis = 1)\n",
    "print(y_test[0:30])\n",
    "print(validations[0:30])"
   ]
  },
  {
   "cell_type": "code",
   "execution_count": 16,
   "metadata": {
    "ExecuteTime": {
     "end_time": "2020-03-04T02:02:07.758945Z",
     "start_time": "2020-03-04T01:34:26.880Z"
    }
   },
   "outputs": [
    {
     "name": "stdout",
     "output_type": "stream",
     "text": [
      "       ImageId  Label\n",
      "0            1      2\n",
      "1            2      0\n",
      "2            3      9\n",
      "3            4      9\n",
      "4            5      3\n",
      "...        ...    ...\n",
      "27995    27996      9\n",
      "27996    27997      7\n",
      "27997    27998      3\n",
      "27998    27999      9\n",
      "27999    28000      2\n",
      "\n",
      "[28000 rows x 2 columns]\n"
     ]
    }
   ],
   "source": [
    "# submission\n",
    "submissions = pd.DataFrame({\"ImageId\": list(range(1, len(predictions)+1)),\n",
    "                            \"Label\": predictions})\n",
    "print(submissions)"
   ]
  },
  {
   "cell_type": "code",
   "execution_count": 17,
   "metadata": {
    "ExecuteTime": {
     "end_time": "2020-03-04T02:02:07.760163Z",
     "start_time": "2020-03-04T01:34:26.881Z"
    }
   },
   "outputs": [
    {
     "data": {
      "text/plain": [
       "(28000, 2)"
      ]
     },
     "execution_count": 17,
     "metadata": {},
     "output_type": "execute_result"
    }
   ],
   "source": [
    "submissions.to_csv(\"submit.csv\", index=False, header=True)\n",
    "submissions.shape"
   ]
  }
 ],
 "metadata": {
  "kernelspec": {
   "display_name": "PlaidMl",
   "language": "python",
   "name": "plaidml"
  },
  "language_info": {
   "codemirror_mode": {
    "name": "ipython",
    "version": 3
   },
   "file_extension": ".py",
   "mimetype": "text/x-python",
   "name": "python",
   "nbconvert_exporter": "python",
   "pygments_lexer": "ipython3",
   "version": "3.6.9"
  },
  "latex_envs": {
   "LaTeX_envs_menu_present": true,
   "autoclose": false,
   "autocomplete": true,
   "bibliofile": "biblio.bib",
   "cite_by": "apalike",
   "current_citInitial": 1,
   "eqLabelWithNumbers": true,
   "eqNumInitial": 1,
   "hotkeys": {
    "equation": "Ctrl-E",
    "itemize": "Ctrl-I"
   },
   "labels_anchors": false,
   "latex_user_defs": false,
   "report_style_numbering": false,
   "user_envs_cfg": false
  },
  "toc": {
   "base_numbering": 1,
   "nav_menu": {},
   "number_sections": true,
   "sideBar": true,
   "skip_h1_title": false,
   "title_cell": "Table of Contents",
   "title_sidebar": "Contents",
   "toc_cell": false,
   "toc_position": {},
   "toc_section_display": true,
   "toc_window_display": false
  },
  "varInspector": {
   "cols": {
    "lenName": 16,
    "lenType": 16,
    "lenVar": 40
   },
   "kernels_config": {
    "python": {
     "delete_cmd_postfix": "",
     "delete_cmd_prefix": "del ",
     "library": "var_list.py",
     "varRefreshCmd": "print(var_dic_list())"
    },
    "r": {
     "delete_cmd_postfix": ") ",
     "delete_cmd_prefix": "rm(",
     "library": "var_list.r",
     "varRefreshCmd": "cat(var_dic_list()) "
    }
   },
   "position": {
    "height": "223px",
    "left": "1412px",
    "right": "20px",
    "top": "-1px",
    "width": "470px"
   },
   "types_to_exclude": [
    "module",
    "function",
    "builtin_function_or_method",
    "instance",
    "_Feature"
   ],
   "window_display": true
  }
 },
 "nbformat": 4,
 "nbformat_minor": 2
}
