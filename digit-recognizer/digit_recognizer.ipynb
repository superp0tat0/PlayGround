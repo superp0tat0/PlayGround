{
 "cells": [
  {
   "cell_type": "code",
   "execution_count": 1,
   "metadata": {
    "ExecuteTime": {
     "end_time": "2020-03-04T01:34:27.658582Z",
     "start_time": "2020-03-04T01:34:26.841681Z"
    }
   },
   "outputs": [],
   "source": [
    "import plaidml.keras\n",
    "plaidml.keras.install_backend()\n",
    "import os\n",
    "os.environ[\"KERAS_BACKEND\"] = \"plaidml.keras.backend\""
   ]
  },
  {
   "cell_type": "code",
   "execution_count": 2,
   "metadata": {
    "ExecuteTime": {
     "end_time": "2020-03-04T01:34:28.387961Z",
     "start_time": "2020-03-04T01:34:27.660150Z"
    }
   },
   "outputs": [],
   "source": [
    "from keras import models, layers\n",
    "import numpy as np\n",
    "from keras.utils import to_categorical\n",
    "import pandas as pd\n",
    "import matplotlib.pyplot as plt\n",
    "from keras.layers import Convolution2D, MaxPooling2D, Flatten, Dropout, BatchNormalization, Dense, Lambda\n",
    "from sklearn.model_selection import train_test_split\n",
    "import warnings\n",
    "from keras.callbacks import TensorBoard\n",
    "import time\n",
    "import scipy.stats\n",
    "from keras.layers import Activation\n",
    "from keras.utils.generic_utils import get_custom_objects\n",
    "from keras.models import Sequential\n",
    "from keras.layers import Dense\n",
    "\n",
    "warnings.filterwarnings(\"ignore\")"
   ]
  },
  {
   "cell_type": "code",
   "execution_count": 3,
   "metadata": {
    "ExecuteTime": {
     "end_time": "2020-03-04T01:34:28.394743Z",
     "start_time": "2020-03-04T01:34:28.389961Z"
    }
   },
   "outputs": [
    {
     "data": {
      "text/plain": [
       "'/Users/siyiwei/Desktop/digit-recognizer'"
      ]
     },
     "execution_count": 3,
     "metadata": {},
     "output_type": "execute_result"
    }
   ],
   "source": [
    "import os\n",
    "os.getcwd()"
   ]
  },
  {
   "cell_type": "markdown",
   "metadata": {},
   "source": []
  },
  {
   "cell_type": "code",
   "execution_count": 4,
   "metadata": {
    "ExecuteTime": {
     "end_time": "2020-03-04T01:34:32.152475Z",
     "start_time": "2020-03-04T01:34:28.396771Z"
    }
   },
   "outputs": [],
   "source": [
    "train = pd.read_csv(\"./train.csv\")\n",
    "test = pd.read_csv(\"./test.csv\")\n",
    "submisssion = pd.read_csv(\"./sample_submission.csv\")"
   ]
  },
  {
   "cell_type": "code",
   "execution_count": 5,
   "metadata": {
    "ExecuteTime": {
     "end_time": "2020-03-04T01:34:32.306673Z",
     "start_time": "2020-03-04T01:34:32.154321Z"
    },
    "scrolled": true
   },
   "outputs": [
    {
     "data": {
      "image/png": "[encoded data removed]",
      "text/plain": [
       "<Figure size 432x288 with 1 Axes>"
      ]
     },
     "metadata": {
      "needs_background": "light"
     },
     "output_type": "display_data"
    }
   ],
   "source": [
    "plt.imshow(np.array(test[7:8]).reshape(28, 28))\n",
    "plt.show()\n",
    "x = 3\n",
    "y = \"string\""
   ]
  },
  {
   "cell_type": "code",
   "execution_count": 6,
   "metadata": {
    "ExecuteTime": {
     "end_time": "2020-03-04T01:34:32.576878Z",
     "start_time": "2020-03-04T01:34:32.308493Z"
    }
   },
   "outputs": [],
   "source": [
    "X = train.iloc[:, 1:]/255.\n",
    "y = train.iloc[:, 0]\n",
    "test = test/255."
   ]
  },
  {
   "cell_type": "code",
   "execution_count": 7,
   "metadata": {
    "ExecuteTime": {
     "end_time": "2020-03-04T01:34:32.582073Z",
     "start_time": "2020-03-04T01:34:32.578799Z"
    }
   },
   "outputs": [],
   "source": [
    "# reshaping 784 to 28,28,1\n",
    "X = X.values.reshape(train.shape[0], 28, 28, 1)\n",
    "test = test.values.reshape(test.shape[0], 28, 28, 1)"
   ]
  },
  {
   "cell_type": "code",
   "execution_count": 8,
   "metadata": {
    "ExecuteTime": {
     "end_time": "2020-03-04T01:34:33.422435Z",
     "start_time": "2020-03-04T01:34:32.585758Z"
    }
   },
   "outputs": [
    {
     "data": {
      "text/plain": [
       "((33600, 28, 28, 1), (33600, 10), (8400, 28, 28, 1), (8400, 10))"
      ]
     },
     "execution_count": 8,
     "metadata": {},
     "output_type": "execute_result"
    }
   ],
   "source": [
    "# one hot of target values using keras's to_categorical class\n",
    "y = to_categorical(y)\n",
    "\n",
    "# splits train/test set\n",
    "Xtrain, Xtest, ytrain, ytest = train_test_split(\n",
    "    X, y, test_size=0.2, random_state=29)\n",
    "\n",
    "# Shape\n",
    "Xtrain.shape, ytrain.shape, Xtest.shape, ytest.shape"
   ]
  },
  {
   "cell_type": "code",
   "execution_count": 9,
   "metadata": {
    "ExecuteTime": {
     "end_time": "2020-03-04T01:34:33.624962Z",
     "start_time": "2020-03-04T01:34:33.426381Z"
    }
   },
   "outputs": [],
   "source": [
    "# in model i am using BatchNormalization so for first step, i menualy normalize the batch\n",
    "mean_px = Xtrain.mean().astype(np.float32)\n",
    "std_px = Xtrain.std().astype(np.float32)\n",
    "\n",
    "def standardize(x):\n",
    "    return (x-mean_px)/std_px\n",
    "\n",
    "#Create a new activation function\n",
    "from keras import backend as K\n",
    "def custom_activation(x):\n",
    "    return (K.exp(-((x-4)**2)))"
   ]
  },
  {
   "cell_type": "code",
   "execution_count": 10,
   "metadata": {
    "ExecuteTime": {
     "end_time": "2020-03-04T01:34:33.633903Z",
     "start_time": "2020-03-04T01:34:33.626786Z"
    }
   },
   "outputs": [],
   "source": [
    "# this is a model with dropouts layers\n",
    "def cnn():\n",
    "    model = models.Sequential()\n",
    "    model.add(Lambda(standardize, input_shape=(28, 28, 1)))\n",
    "    model.add(Convolution2D(32, (3, 3), activation=\"relu\"))\n",
    "    model.add(BatchNormalization(axis=1))\n",
    "    model.add(Convolution2D(64, (3, 3), activation=\"relu\"))\n",
    "    model.add(MaxPooling2D())\n",
    "    model.add(Convolution2D(128, (3, 3), activation=\"relu\"))\n",
    "    model.add(BatchNormalization(axis=1))\n",
    "    model.add(Convolution2D(128, (2, 2), activation=\"relu\"))\n",
    "    model.add(MaxPooling2D())\n",
    "    model.add(Flatten())\n",
    "    model.add(Dense(256, activation=\"relu\"))\n",
    "    model.add(Dropout(0.2))\n",
    "    model.add(Dense(256, activation=\"relu\"))\n",
    "    model.add(Dropout(0.2))\n",
    "    model.add(Dense(10, activation='softmax'))\n",
    "    model.compile(optimizer='adam', loss='categorical_crossentropy',\n",
    "                  metrics=['accuracy'])\n",
    "    return model"
   ]
  },
  {
   "cell_type": "code",
   "execution_count": 11,
   "metadata": {
    "ExecuteTime": {
     "end_time": "2020-03-04T02:02:07.559121Z",
     "start_time": "2020-03-04T01:34:33.635459Z"
    },
    "scrolled": true
   },
   "outputs": [
    {
     "name": "stderr",
     "output_type": "stream",
     "text": [
      "INFO:plaidml:Opening device \"metal_intel(r)_iris(tm)_plus_graphics_655.0\"\n"
     ]
    },
    {
     "name": "stdout",
     "output_type": "stream",
     "text": [
      "Train on 33600 samples, validate on 8400 samples\n",
      "Epoch 1/20\n",
      "33600/33600 [==============================] - 110s 3ms/step - loss: nan - acc: 0.0985 - val_loss: nan - val_acc: 0.0987\n",
      "Epoch 2/20\n",
      "33600/33600 [==============================] - 81s 2ms/step - loss: nan - acc: 0.0983 - val_loss: nan - val_acc: 0.0987\n",
      "Epoch 3/20\n",
      "33600/33600 [==============================] - 81s 2ms/step - loss: nan - acc: 0.0983 - val_loss: nan - val_acc: 0.0987\n",
      "Epoch 4/20\n",
      "33600/33600 [==============================] - 81s 2ms/step - loss: nan - acc: 0.0983 - val_loss: nan - val_acc: 0.0987\n",
      "Epoch 5/20\n",
      "33600/33600 [==============================] - 81s 2ms/step - loss: nan - acc: 0.0983 - val_loss: nan - val_acc: 0.0987\n",
      "Epoch 6/20\n",
      "33600/33600 [==============================] - 81s 2ms/step - loss: nan - acc: 0.0983 - val_loss: nan - val_acc: 0.0987\n",
      "Epoch 7/20\n",
      "33600/33600 [==============================] - 81s 2ms/step - loss: nan - acc: 0.0983 - val_loss: nan - val_acc: 0.0987\n",
      "Epoch 8/20\n",
      "33600/33600 [==============================] - 81s 2ms/step - loss: nan - acc: 0.0983 - val_loss: nan - val_acc: 0.0987\n",
      "Epoch 9/20\n",
      "33600/33600 [==============================] - 81s 2ms/step - loss: nan - acc: 0.0983 - val_loss: nan - val_acc: 0.0987\n",
      "Epoch 10/20\n",
      "33600/33600 [==============================] - 81s 2ms/step - loss: nan - acc: 0.0983 - val_loss: nan - val_acc: 0.0987\n",
      "Epoch 11/20\n",
      "33600/33600 [==============================] - 82s 2ms/step - loss: nan - acc: 0.0983 - val_loss: nan - val_acc: 0.0987\n",
      "Epoch 12/20\n",
      "33600/33600 [==============================] - 81s 2ms/step - loss: nan - acc: 0.0983 - val_loss: nan - val_acc: 0.0987\n",
      "Epoch 13/20\n",
      "33600/33600 [==============================] - 81s 2ms/step - loss: nan - acc: 0.0983 - val_loss: nan - val_acc: 0.0987\n",
      "Epoch 14/20\n",
      "33600/33600 [==============================] - 81s 2ms/step - loss: nan - acc: 0.0983 - val_loss: nan - val_acc: 0.0987\n",
      "Epoch 15/20\n",
      "33600/33600 [==============================] - 81s 2ms/step - loss: nan - acc: 0.0983 - val_loss: nan - val_acc: 0.0987\n",
      "Epoch 16/20\n",
      "33600/33600 [==============================] - 81s 2ms/step - loss: nan - acc: 0.0983 - val_loss: nan - val_acc: 0.0987\n",
      "Epoch 17/20\n",
      "33600/33600 [==============================] - 81s 2ms/step - loss: nan - acc: 0.0983 - val_loss: nan - val_acc: 0.0987\n",
      "Epoch 18/20\n",
      "33600/33600 [==============================] - 82s 2ms/step - loss: nan - acc: 0.0983 - val_loss: nan - val_acc: 0.0987\n",
      "Epoch 19/20\n",
      "33600/33600 [==============================] - 82s 2ms/step - loss: nan - acc: 0.0983 - val_loss: nan - val_acc: 0.0987\n",
      "Epoch 20/20\n",
      "33600/33600 [==============================] - 81s 2ms/step - loss: nan - acc: 0.0983 - val_loss: nan - val_acc: 0.0987\n"
     ]
    }
   ],
   "source": [
    "classifier = cnn()\n",
    "# traing the model with 20 epochs and 1000 batch size\n",
    "\n",
    "#create tensorboard instance\n",
    "history2 = classifier.fit(Xtrain, ytrain, epochs=20, batch_size=1000, validation_data=(Xtest, ytest))"
   ]
  },
  {
   "cell_type": "code",
   "execution_count": 13,
   "metadata": {
    "ExecuteTime": {
     "end_time": "2020-03-04T02:03:11.599127Z",
     "start_time": "2020-03-04T02:03:11.447113Z"
    }
   },
   "outputs": [
    {
     "data": {
      "image/png": "[encoded data removed]",
      "text/plain": [
       "<Figure size 432x288 with 1 Axes>"
      ]
     },
     "metadata": {
      "needs_background": "light"
     },
     "output_type": "display_data"
    }
   ],
   "source": [
    "plt.plot(history2.history['val_loss'],'g')\n",
    "plt.show()\n",
    "classifier = history2"
   ]
  },
  {
   "cell_type": "code",
   "execution_count": 14,
   "metadata": {
    "ExecuteTime": {
     "end_time": "2020-03-04T02:03:23.639532Z",
     "start_time": "2020-03-04T02:03:23.629035Z"
    }
   },
   "outputs": [
    {
     "ename": "AttributeError",
     "evalue": "'History' object has no attribute 'predict'",
     "output_type": "error",
     "traceback": [
      "\u001b[0;31m---------------------------------------------------------------------------\u001b[0m",
      "\u001b[0;31mAttributeError\u001b[0m                            Traceback (most recent call last)",
      "\u001b[0;32m<ipython-input-14-4a6a2d8477bf>\u001b[0m in \u001b[0;36m<module>\u001b[0;34m\u001b[0m\n\u001b[1;32m      1\u001b[0m \u001b[0;31m# prediction of submission_test set\u001b[0m\u001b[0;34m\u001b[0m\u001b[0;34m\u001b[0m\u001b[0;34m\u001b[0m\u001b[0m\n\u001b[0;32m----> 2\u001b[0;31m \u001b[0mprediction\u001b[0m \u001b[0;34m=\u001b[0m \u001b[0mclassifier\u001b[0m\u001b[0;34m.\u001b[0m\u001b[0mpredict\u001b[0m\u001b[0;34m(\u001b[0m\u001b[0mtest\u001b[0m\u001b[0;34m)\u001b[0m\u001b[0;34m\u001b[0m\u001b[0;34m\u001b[0m\u001b[0m\n\u001b[0m\u001b[1;32m      3\u001b[0m \u001b[0mvalidation\u001b[0m \u001b[0;34m=\u001b[0m \u001b[0mclassifier\u001b[0m\u001b[0;34m.\u001b[0m\u001b[0mpredict\u001b[0m\u001b[0;34m(\u001b[0m\u001b[0mXtest\u001b[0m\u001b[0;34m)\u001b[0m\u001b[0;34m\u001b[0m\u001b[0;34m\u001b[0m\u001b[0m\n\u001b[1;32m      4\u001b[0m \u001b[0mpredictions\u001b[0m \u001b[0;34m=\u001b[0m \u001b[0mnp\u001b[0m\u001b[0;34m.\u001b[0m\u001b[0margmax\u001b[0m\u001b[0;34m(\u001b[0m\u001b[0mprediction\u001b[0m\u001b[0;34m,\u001b[0m \u001b[0maxis\u001b[0m\u001b[0;34m=\u001b[0m\u001b[0;36m1\u001b[0m\u001b[0;34m)\u001b[0m\u001b[0;34m\u001b[0m\u001b[0;34m\u001b[0m\u001b[0m\n",
      "\u001b[0;31mAttributeError\u001b[0m: 'History' object has no attribute 'predict'"
     ]
    }
   ],
   "source": [
    "# prediction of submission_test set\n",
    "prediction = classifier.predict(test)\n",
    "validation = classifier.predict(Xtest)\n",
    "predictions = np.argmax(prediction, axis=1)"
   ]
  },
  {
   "cell_type": "code",
   "execution_count": null,
   "metadata": {
    "ExecuteTime": {
     "end_time": "2020-03-04T02:02:07.757726Z",
     "start_time": "2020-03-04T01:34:26.879Z"
    }
   },
   "outputs": [],
   "source": [
    "validations = np.argmax(validation,axis = 1)\n",
    "y_test= np.argmax(ytest,axis = 1)\n",
    "print(y_test[0:30])\n",
    "print(validations[0:30])"
   ]
  },
  {
   "cell_type": "code",
   "execution_count": null,
   "metadata": {
    "ExecuteTime": {
     "end_time": "2020-03-04T02:02:07.758945Z",
     "start_time": "2020-03-04T01:34:26.880Z"
    }
   },
   "outputs": [],
   "source": [
    "# submission\n",
    "submissions = pd.DataFrame({\"ImageId\": list(range(1, len(predictions)+1)),\n",
    "                            \"Label\": predictions})\n",
    "print(submissions)"
   ]
  },
  {
   "cell_type": "code",
   "execution_count": null,
   "metadata": {
    "ExecuteTime": {
     "end_time": "2020-03-04T02:02:07.760163Z",
     "start_time": "2020-03-04T01:34:26.881Z"
    }
   },
   "outputs": [],
   "source": [
    "submissions.to_csv(\"submit.csv\", index=False, header=True)\n",
    "submissions.shape"
   ]
  }
 ],
 "metadata": {
  "kernelspec": {
   "display_name": "PlaidML",
   "language": "python",
   "name": "plaidml"
  },
  "language_info": {
   "codemirror_mode": {
    "name": "ipython",
    "version": 3
   },
   "file_extension": ".py",
   "mimetype": "text/x-python",
   "name": "python",
   "nbconvert_exporter": "python",
   "pygments_lexer": "ipython3",
   "version": "3.7.4"
  },
  "latex_envs": {
   "LaTeX_envs_menu_present": true,
   "autoclose": false,
   "autocomplete": true,
   "bibliofile": "biblio.bib",
   "cite_by": "apalike",
   "current_citInitial": 1,
   "eqLabelWithNumbers": true,
   "eqNumInitial": 1,
   "hotkeys": {
    "equation": "Ctrl-E",
    "itemize": "Ctrl-I"
   },
   "labels_anchors": false,
   "latex_user_defs": false,
   "report_style_numbering": false,
   "user_envs_cfg": false
  },
  "toc": {
   "base_numbering": 1,
   "nav_menu": {},
   "number_sections": true,
   "sideBar": true,
   "skip_h1_title": false,
   "title_cell": "Table of Contents",
   "title_sidebar": "Contents",
   "toc_cell": false,
   "toc_position": {},
   "toc_section_display": true,
   "toc_window_display": false
  },
  "varInspector": {
   "cols": {
    "lenName": 16,
    "lenType": 16,
    "lenVar": 40
   },
   "kernels_config": {
    "python": {
     "delete_cmd_postfix": "",
     "delete_cmd_prefix": "del ",
     "library": "var_list.py",
     "varRefreshCmd": "print(var_dic_list())"
    },
    "r": {
     "delete_cmd_postfix": ") ",
     "delete_cmd_prefix": "rm(",
     "library": "var_list.r",
     "varRefreshCmd": "cat(var_dic_list()) "
    }
   },
   "position": {
    "height": "223px",
    "left": "1412px",
    "right": "20px",
    "top": "-1px",
    "width": "470px"
   },
   "types_to_exclude": [
    "module",
    "function",
    "builtin_function_or_method",
    "instance",
    "_Feature"
   ],
   "window_display": true
  }
 },
 "nbformat": 4,
 "nbformat_minor": 2
}
