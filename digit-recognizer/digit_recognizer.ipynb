{
 "cells": [
  {
   "cell_type": "code",
   "execution_count": 1,
   "metadata": {
    "ExecuteTime": {
     "end_time": "2020-04-16T03:04:06.516316Z",
     "start_time": "2020-04-16T03:04:05.471445Z"
    }
   },
   "outputs": [],
   "source": [
    "import plaidml.keras\n",
    "plaidml.keras.install_backend()\n",
    "import os\n",
    "os.environ[\"KERAS_BACKEND\"] = \"plaidml.keras.backend\""
   ]
  },
  {
   "cell_type": "code",
   "execution_count": 2,
   "metadata": {
    "ExecuteTime": {
     "end_time": "2020-04-16T03:04:07.365302Z",
     "start_time": "2020-04-16T03:04:06.518052Z"
    }
   },
   "outputs": [],
   "source": [
    "from keras import models, layers\n",
    "import numpy as np\n",
    "from keras.utils import to_categorical\n",
    "import pandas as pd\n",
    "import matplotlib.pyplot as plt\n",
    "from keras.layers import Convolution2D, MaxPooling2D, Flatten, Dropout, BatchNormalization, Dense, Lambda\n",
    "from sklearn.model_selection import train_test_split\n",
    "import warnings\n",
    "from keras.callbacks import TensorBoard\n",
    "import time\n",
    "import scipy.stats\n",
    "from keras.layers import Activation\n",
    "from keras.utils.generic_utils import get_custom_objects\n",
    "from keras.models import Sequential\n",
    "from keras.layers import Dense\n",
    "\n",
    "warnings.filterwarnings(\"ignore\")"
   ]
  },
  {
   "cell_type": "code",
   "execution_count": 3,
   "metadata": {
    "ExecuteTime": {
     "end_time": "2020-04-16T03:04:07.373513Z",
     "start_time": "2020-04-16T03:04:07.367752Z"
    }
   },
   "outputs": [
    {
     "data": {
      "text/plain": [
       "'/Users/siyiwei/Desktop/PlayGround/digit-recognizer'"
      ]
     },
     "execution_count": 3,
     "metadata": {},
     "output_type": "execute_result"
    }
   ],
   "source": [
    "import os\n",
    "os.getcwd()"
   ]
  },
  {
   "cell_type": "markdown",
   "metadata": {},
   "source": []
  },
  {
   "cell_type": "code",
   "execution_count": 4,
   "metadata": {
    "ExecuteTime": {
     "end_time": "2020-04-16T03:04:10.851887Z",
     "start_time": "2020-04-16T03:04:07.375936Z"
    }
   },
   "outputs": [],
   "source": [
    "train = pd.read_csv(\"./train.csv\")\n",
    "test = pd.read_csv(\"./test.csv\")\n",
    "submisssion = pd.read_csv(\"./sample_submission.csv\")"
   ]
  },
  {
   "cell_type": "code",
   "execution_count": 5,
   "metadata": {
    "ExecuteTime": {
     "end_time": "2020-04-16T03:04:11.011190Z",
     "start_time": "2020-04-16T03:04:10.854237Z"
    },
    "scrolled": true
   },
   "outputs": [
    {
     "data": {
      "image/png": "[encoded data removed]",
      "text/plain": [
       "<Figure size 432x288 with 1 Axes>"
      ]
     },
     "metadata": {
      "needs_background": "light"
     },
     "output_type": "display_data"
    }
   ],
   "source": [
    "plt.imshow(np.array(test[7:8]).reshape(28, 28))\n",
    "plt.show()\n",
    "x = 3\n",
    "y = \"string\""
   ]
  },
  {
   "cell_type": "code",
   "execution_count": 6,
   "metadata": {
    "ExecuteTime": {
     "end_time": "2020-04-16T03:04:11.263889Z",
     "start_time": "2020-04-16T03:04:11.013532Z"
    }
   },
   "outputs": [],
   "source": [
    "X = train.iloc[:, 1:]/255.\n",
    "y = train.iloc[:, 0]\n",
    "test = test/255."
   ]
  },
  {
   "cell_type": "code",
   "execution_count": 7,
   "metadata": {
    "ExecuteTime": {
     "end_time": "2020-04-16T03:04:11.269339Z",
     "start_time": "2020-04-16T03:04:11.266314Z"
    }
   },
   "outputs": [],
   "source": [
    "# reshaping 784 to 28,28,1\n",
    "X = X.values.reshape(train.shape[0], 28, 28, 1)\n",
    "test = test.values.reshape(test.shape[0], 28, 28, 1)"
   ]
  },
  {
   "cell_type": "code",
   "execution_count": 8,
   "metadata": {
    "ExecuteTime": {
     "end_time": "2020-04-16T03:04:12.072817Z",
     "start_time": "2020-04-16T03:04:11.273492Z"
    }
   },
   "outputs": [
    {
     "data": {
      "text/plain": [
       "((33600, 28, 28, 1), (33600, 10), (8400, 28, 28, 1), (8400, 10))"
      ]
     },
     "execution_count": 8,
     "metadata": {},
     "output_type": "execute_result"
    }
   ],
   "source": [
    "# one hot of target values using keras's to_categorical class\n",
    "y = to_categorical(y)\n",
    "\n",
    "# splits train/test set\n",
    "Xtrain, Xtest, ytrain, ytest = train_test_split(\n",
    "    X, y, test_size=0.2, random_state=29)\n",
    "\n",
    "# Shape\n",
    "Xtrain.shape, ytrain.shape, Xtest.shape, ytest.shape"
   ]
  },
  {
   "cell_type": "code",
   "execution_count": 9,
   "metadata": {
    "ExecuteTime": {
     "end_time": "2020-04-16T03:04:12.272833Z",
     "start_time": "2020-04-16T03:04:12.076487Z"
    }
   },
   "outputs": [],
   "source": [
    "# in model i am using BatchNormalization so for first step, i menualy normalize the batch\n",
    "mean_px = Xtrain.mean().astype(np.float32)\n",
    "std_px = Xtrain.std().astype(np.float32)\n",
    "\n",
    "def standardize(x):\n",
    "    return (x-mean_px)/std_px\n",
    "\n",
    "#Create a new activation function\n",
    "from keras import backend as K\n",
    "def custom_activation(x):\n",
    "    return (K.exp(-((x-4)**2)))"
   ]
  },
  {
   "cell_type": "code",
   "execution_count": 10,
   "metadata": {
    "ExecuteTime": {
     "end_time": "2020-04-16T03:04:12.281242Z",
     "start_time": "2020-04-16T03:04:12.274206Z"
    }
   },
   "outputs": [],
   "source": [
    "# this is a model with dropouts layers\n",
    "def cnn(normal = False):\n",
    "    model = models.Sequential()\n",
    "    model.add(Lambda(standardize, input_shape=(28, 28, 1)))\n",
    "    model.add(Convolution2D(32, (3, 3), activation=\"relu\"))\n",
    "    if(normal): model.add(BatchNormalization(axis=1))\n",
    "    model.add(Convolution2D(64, (3, 3), activation=\"relu\"))\n",
    "    model.add(Convolution2D(128, (3, 3), activation=\"relu\"))\n",
    "    model.add(MaxPooling2D())\n",
    "    if(normal): model.add(BatchNormalization(axis=1))\n",
    "    model.add(Convolution2D(128, (2, 2), activation=\"relu\"))\n",
    "    if(normal): model.add(BatchNormalization(axis=1))\n",
    "    model.add(MaxPooling2D())\n",
    "    model.add(Flatten())\n",
    "    model.add(Dense(256, activation=\"relu\"))\n",
    "    model.add(Dropout(0.2))\n",
    "    model.add(Dense(256, activation=\"relu\"))\n",
    "    model.add(Dropout(0.2))\n",
    "    model.add(Dense(10, activation='softmax'))\n",
    "    model.compile(optimizer='adam', loss='categorical_crossentropy',\n",
    "                  metrics=['accuracy'])\n",
    "    return model"
   ]
  },
  {
   "cell_type": "code",
   "execution_count": null,
   "metadata": {
    "ExecuteTime": {
     "start_time": "2020-04-16T03:04:05.504Z"
    },
    "scrolled": true
   },
   "outputs": [
    {
     "name": "stderr",
     "output_type": "stream",
     "text": [
      "INFO:plaidml:Opening device \"metal_intel(r)_iris(tm)_plus_graphics_655.0\"\n"
     ]
    },
    {
     "name": "stdout",
     "output_type": "stream",
     "text": [
      "Train on 33600 samples, validate on 8400 samples\n",
      "Epoch 1/20\n",
      " 5000/33600 [===>..........................] - ETA: 4:46 - loss: nan - acc: 0.1044"
     ]
    },
    {
     "name": "stderr",
     "output_type": "stream",
     "text": [
      "ERROR:plaidml:Internal Error (IOAF code 2067)\n"
     ]
    },
    {
     "name": "stdout",
     "output_type": "stream",
     "text": [
      " 8000/33600 [======>.......................] - ETA: 4:00 - loss: nan - acc: 0.0883"
     ]
    },
    {
     "name": "stderr",
     "output_type": "stream",
     "text": [
      "ERROR:plaidml:Internal Error (IOAF code 2067)\n"
     ]
    },
    {
     "name": "stdout",
     "output_type": "stream",
     "text": [
      "10000/33600 [=======>......................] - ETA: 3:35 - loss: nan - acc: 0.0801"
     ]
    },
    {
     "name": "stderr",
     "output_type": "stream",
     "text": [
      "ERROR:plaidml:Internal Error (IOAF code 2067)\n"
     ]
    },
    {
     "name": "stdout",
     "output_type": "stream",
     "text": [
      "13000/33600 [==========>...................] - ETA: 3:05 - loss: nan - acc: 0.0758"
     ]
    },
    {
     "name": "stderr",
     "output_type": "stream",
     "text": [
      "ERROR:plaidml:Internal Error (IOAF code 2067)\n"
     ]
    },
    {
     "name": "stdout",
     "output_type": "stream",
     "text": [
      "\b\b\b\b\b\b\b\b\b\b\b\b\b\b\b\b\b\b\b\b\b\b\b\b\b\b\b\b\b\b\b\b\b\b\b\b\b\b\b\b\b\b\b\b\b\b\b\b\b\b\b\b\b\b\b\b\b\b\b\b\b\b\b\b\b\b\b\b\b\b\b\b\b\b\b\b\b\b\b\b\b\b\r",
      "14000/33600 [===========>..................] - ETA: 2:57 - loss: nan - acc: 0.0704"
     ]
    },
    {
     "name": "stderr",
     "output_type": "stream",
     "text": [
      "ERROR:plaidml:Internal Error (IOAF code 2067)\n"
     ]
    },
    {
     "name": "stdout",
     "output_type": "stream",
     "text": [
      "16000/33600 [=============>................] - ETA: 2:42 - loss: nan - acc: 0.0681"
     ]
    },
    {
     "name": "stderr",
     "output_type": "stream",
     "text": [
      "ERROR:plaidml:Internal Error (IOAF code 2067)\n"
     ]
    },
    {
     "name": "stdout",
     "output_type": "stream",
     "text": [
      "20000/33600 [================>.............] - ETA: 2:06 - loss: nan - acc: 0.0695"
     ]
    },
    {
     "name": "stderr",
     "output_type": "stream",
     "text": [
      "ERROR:plaidml:Internal Error (IOAF code 2067)\n"
     ]
    },
    {
     "name": "stdout",
     "output_type": "stream",
     "text": [
      "26000/33600 [======================>.......] - ETA: 1:11 - loss: nan - acc: 0.0728"
     ]
    },
    {
     "name": "stderr",
     "output_type": "stream",
     "text": [
      "ERROR:plaidml:Internal Error (IOAF code 2067)\n"
     ]
    },
    {
     "name": "stdout",
     "output_type": "stream",
     "text": [
      "30000/33600 [=========================>....] - ETA: 33s - loss: nan - acc: 0.0739"
     ]
    },
    {
     "name": "stderr",
     "output_type": "stream",
     "text": [
      "ERROR:plaidml:Internal Error (IOAF code 2067)\n"
     ]
    },
    {
     "name": "stdout",
     "output_type": "stream",
     "text": [
      "33000/33600 [============================>.] - ETA: 5s - loss: nan - acc: 0.0730 "
     ]
    }
   ],
   "source": [
    "classifier = cnn()\n",
    "classifier_normal = cnn(True)\n",
    "# traing the model with 20 epochs and 1000 batch size\n",
    "\n",
    "#create tensorboard instance\n",
    "history1 = classifier.fit(Xtrain, ytrain, epochs=20, batch_size=1000, validation_data=(Xtest, ytest))\n",
    "history2 = classifier_normal.fit(Xtrain, ytrain, epochs=20, batch_size=1000, validation_data=(Xtest, ytest))"
   ]
  },
  {
   "cell_type": "code",
   "execution_count": null,
   "metadata": {
    "ExecuteTime": {
     "start_time": "2020-04-16T03:04:05.505Z"
    }
   },
   "outputs": [],
   "source": [
    "plt.plot(history1.history['val_loss'],'g')\n",
    "plt.plot(history2.history['val_loss'],'g')\n",
    "plt.show()"
   ]
  },
  {
   "cell_type": "code",
   "execution_count": null,
   "metadata": {
    "ExecuteTime": {
     "start_time": "2020-04-16T03:04:05.506Z"
    }
   },
   "outputs": [],
   "source": [
    "# prediction of submission_test set\n",
    "prediction = classifier.predict(test)\n",
    "validation = classifier.predict(Xtest)\n",
    "predictions = np.argmax(prediction, axis=1)"
   ]
  },
  {
   "cell_type": "code",
   "execution_count": null,
   "metadata": {
    "ExecuteTime": {
     "start_time": "2020-04-16T03:04:05.507Z"
    }
   },
   "outputs": [],
   "source": [
    "validations = np.argmax(validation,axis = 1)\n",
    "y_test= np.argmax(ytest,axis = 1)\n",
    "print(y_test[0:30])\n",
    "print(validations[0:30])"
   ]
  },
  {
   "cell_type": "code",
   "execution_count": null,
   "metadata": {
    "ExecuteTime": {
     "start_time": "2020-04-16T03:04:05.508Z"
    }
   },
   "outputs": [],
   "source": [
    "# submission\n",
    "submissions = pd.DataFrame({\"ImageId\": list(range(1, len(predictions)+1)),\n",
    "                            \"Label\": predictions})\n",
    "print(submissions)"
   ]
  },
  {
   "cell_type": "code",
   "execution_count": null,
   "metadata": {
    "ExecuteTime": {
     "start_time": "2020-04-16T03:04:05.510Z"
    }
   },
   "outputs": [],
   "source": [
    "submissions.to_csv(\"submit.csv\", index=False, header=True)\n",
    "submissions.shape"
   ]
  }
 ],
 "metadata": {
  "kernelspec": {
   "display_name": "PlaidML",
   "language": "python",
   "name": "plaidml"
  },
  "language_info": {
   "codemirror_mode": {
    "name": "ipython",
    "version": 3
   },
   "file_extension": ".py",
   "mimetype": "text/x-python",
   "name": "python",
   "nbconvert_exporter": "python",
   "pygments_lexer": "ipython3",
   "version": "3.7.4"
  },
  "latex_envs": {
   "LaTeX_envs_menu_present": true,
   "autoclose": false,
   "autocomplete": true,
   "bibliofile": "biblio.bib",
   "cite_by": "apalike",
   "current_citInitial": 1,
   "eqLabelWithNumbers": true,
   "eqNumInitial": 1,
   "hotkeys": {
    "equation": "Ctrl-E",
    "itemize": "Ctrl-I"
   },
   "labels_anchors": false,
   "latex_user_defs": false,
   "report_style_numbering": false,
   "user_envs_cfg": false
  },
  "toc": {
   "base_numbering": 1,
   "nav_menu": {},
   "number_sections": true,
   "sideBar": true,
   "skip_h1_title": false,
   "title_cell": "Table of Contents",
   "title_sidebar": "Contents",
   "toc_cell": false,
   "toc_position": {},
   "toc_section_display": true,
   "toc_window_display": false
  },
  "varInspector": {
   "cols": {
    "lenName": 16,
    "lenType": 16,
    "lenVar": 40
   },
   "kernels_config": {
    "python": {
     "delete_cmd_postfix": "",
     "delete_cmd_prefix": "del ",
     "library": "var_list.py",
     "varRefreshCmd": "print(var_dic_list())"
    },
    "r": {
     "delete_cmd_postfix": ") ",
     "delete_cmd_prefix": "rm(",
     "library": "var_list.r",
     "varRefreshCmd": "cat(var_dic_list()) "
    }
   },
   "position": {
    "height": "223px",
    "left": "1412px",
    "right": "20px",
    "top": "-1px",
    "width": "470px"
   },
   "types_to_exclude": [
    "module",
    "function",
    "builtin_function_or_method",
    "instance",
    "_Feature"
   ],
   "window_display": true
  }
 },
 "nbformat": 4,
 "nbformat_minor": 2
}
